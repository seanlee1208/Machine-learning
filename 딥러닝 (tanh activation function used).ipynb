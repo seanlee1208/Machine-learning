{
  "nbformat": 4,
  "nbformat_minor": 0,
  "metadata": {
    "colab": {
      "provenance": [],
      "authorship_tag": "ABX9TyMCSJ9w2F7JVtiM72Qiz0xJ",
      "include_colab_link": true
    },
    "kernelspec": {
      "name": "python3",
      "display_name": "Python 3"
    },
    "language_info": {
      "name": "python"
    }
  },
  "cells": [
    {
      "cell_type": "markdown",
      "metadata": {
        "id": "view-in-github",
        "colab_type": "text"
      },
      "source": [
        "<a href=\"https://colab.research.google.com/github/seanlee1208/Machine-learning/blob/main/%EB%94%A5%EB%9F%AC%EB%8B%9D%20(tanh%20activation%20function%20used).ipynb\" target=\"_parent\"><img src=\"https://colab.research.google.com/assets/colab-badge.svg\" alt=\"Open In Colab\"/></a>"
      ]
    },
    {
      "cell_type": "code",
      "execution_count": 5,
      "metadata": {
        "id": "fcY8x8Iy5gMT",
        "outputId": "1603417e-7973-41cd-889b-369c5facd3b4",
        "colab": {
          "base_uri": "https://localhost:8080/"
        }
      },
      "outputs": [
        {
          "output_type": "stream",
          "name": "stdout",
          "text": [
            "a=0.912516, b=0.045746, c=-0.276268, d=0.608268, e=-1.973667, f=1.857882, g=-0.918166, h=0.677159, i=0.579919\n",
            "[-0.3303226875666295, -0.3373544435240683, -0.3378917270757381, 0.3388304667911298, -0.338247263333346, -0.33824726584777265, 0.3374392578202928, 0.3383172981838233, -0.3347205839785059]\n"
          ]
        }
      ],
      "source": [
        "import math\n",
        "import random\n",
        "a = random.uniform(-2, 2)\n",
        "b = random.uniform(-2, 2)\n",
        "c = random.uniform(-2, 2)\n",
        "d = random.uniform(-2, 2)\n",
        "e = random.uniform(-2, 2)\n",
        "f = random.uniform(-2, 2)\n",
        "g = random.uniform(-2, 2)\n",
        "h = random.uniform(-2, 2)\n",
        "i = random.uniform(-2, 2)\n",
        "\n",
        "eta = 0.00001\n",
        "\n",
        "def sigmoid(x):\n",
        "  return 1.0/(1.0+math.exp(-x))\n",
        "\n",
        "data = [(5, 10), (7, 18), (10, 8), (15, 1), (20, 33), (23, 19), (20, 4), (15, 2), (6, 8)]\n",
        "labels = [-1, -1, +1, +1, -1, -1, +1, -1, +1]\n",
        "\n",
        "zValue=[0, 0, 0, 0, 0, 0, 0, 0, 0]\n",
        "FinalzValue=[0, 0, 0, 0, 0, 0, 0, 0, 0]\n",
        "\n",
        "for counter in range(100000):\n",
        "  da=db=dc=dd=de=df=dg=dh=di=0.0\n",
        "  for idx in range(len(data)):\n",
        "    x = float(data[idx][0])\n",
        "    y = float(data[idx][1])\n",
        "    z1=a*x+b*y+c\n",
        "    X=sigmoid(z1)\n",
        "    z2=d*x+e*y+f\n",
        "    Y=sigmoid(z2)\n",
        "    z=g*X+h*Y+i\n",
        "\n",
        "    Z=labels[idx]\n",
        "    dz=2*(z-Z)\n",
        "    dz1=dz*g*sigmoid(z1)*(1.0-sigmoid(z1))\n",
        "    dz2=dz*h*sigmoid(z2)*(1.0-sigmoid(z2))\n",
        "    da+=dz1*x\n",
        "    db+=dz1*y\n",
        "    dc+=dz1\n",
        "    dd+=dz2*x\n",
        "    de+=dz2*y\n",
        "    df+=dz2\n",
        "    dg+=dz*X\n",
        "    dh+=dz*Y\n",
        "    di+=dz\n",
        "\n",
        "  a = a-eta*da\n",
        "  b = b-eta*db\n",
        "  c = c-eta*dc\n",
        "  d = d-eta*dd\n",
        "  e = e-eta*de\n",
        "  f = f-eta*df\n",
        "  g = g-eta*dg\n",
        "  h = h-eta*dh\n",
        "  i = i-eta*di\n",
        "\n",
        "\n",
        "print(\"a=%lf, b=%lf, c=%lf, d=%lf, e=%lf, f=%lf, g=%lf, h=%lf, i=%lf\" %(a, b, c, d, e, f, g, h, i))\n",
        "\n",
        "for idx in range(len(data)):\n",
        "  x = float(data[idx][0])\n",
        "  y = float(data[idx][1])\n",
        "  FinalzValue[idx] = g*sigmoid(a*x+b*y+c)+h*sigmoid(d*x+e*y+f)+i\n",
        "\n",
        "\n",
        "print(FinalzValue)"
      ]
    },
    {
      "cell_type": "code",
      "source": [
        "import math\n",
        "import random\n",
        "a = random.uniform(-1, 1)\n",
        "b = random.uniform(-1, 1)\n",
        "c = random.uniform(-1, 1)\n",
        "d = random.uniform(-1, 1)\n",
        "e = random.uniform(-1, 1)\n",
        "f = random.uniform(-1, 1)\n",
        "g = random.uniform(-1, 1)\n",
        "h = random.uniform(-1, 1)\n",
        "i = random.uniform(-1, 1)\n",
        "\n",
        "eta = 0.00001\n",
        "\n",
        "def sigmoid(x):\n",
        "  return 1.0/(1.0+math.exp(-x))\n",
        "\n",
        "def tanh(x):\n",
        "  return math.tanh(x)\n",
        "\n",
        "data = [(5, 10), (7, 18), (10, 8), (15, 15), (20, 3), (23, 12)]\n",
        "labels = [-1, -1, +1, +1, -1, -1]\n",
        "\n",
        "zValue=[0, 0, 0, 0, 0, 0]\n",
        "FinalzValue=[0, 0, 0, 0, 0, 0]\n",
        "\n",
        "for counter in range(100000):\n",
        "  da=db=dc=dd=de=df=dg=dh=di=0.0\n",
        "  for idx in range(len(data)):\n",
        "    x = float(data[idx][0])\n",
        "    y = float(data[idx][1])\n",
        "    z1=a*x+b*y+c\n",
        "    X=tanh(z1)\n",
        "    z2=d*x+e*y+f\n",
        "    Y=tanh(z2)\n",
        "    z=g*X+h*Y+i\n",
        "\n",
        "    Z=labels[idx]\n",
        "    dz=2*(z-Z)\n",
        "    dz1=dz*g*(1.0-tanh(z1)**2)\n",
        "    dz2=dz*h*(1.0-tanh(z2)**2)\n",
        "    da+=dz1*x\n",
        "    db+=dz1*y\n",
        "    dc+=dz1\n",
        "    dd+=dz2*x\n",
        "    de+=dz2*y\n",
        "    df+=dz2\n",
        "    dg+=dz*X\n",
        "    dh+=dz*Y\n",
        "    di+=dz\n",
        "\n",
        "  a = a-eta*da\n",
        "  b = b-eta*db\n",
        "  c = c-eta*dc\n",
        "  d = d-eta*dd\n",
        "  e = e-eta*de\n",
        "  f = f-eta*df\n",
        "  g = g-eta*dg\n",
        "  h = h-eta*dh\n",
        "  i = i-eta*di\n",
        "\n",
        "\n",
        "print(\"a=%lf, b=%lf, c=%lf, d=%lf, e=%lf, f=%lf, g=%lf, h=%lf, i=%lf\" %(a, b, c, d, e, f, g, h, i))\n",
        "\n",
        "for idx in range(len(data)):\n",
        "  x = float(data[idx][0])\n",
        "  y = float(data[idx][1])\n",
        "  FinalzValue[idx] = g*tanh(a*x+b*y+c)+h*tanh(d*x+e*y+f)+i\n",
        "\n",
        "\n",
        "print(FinalzValue)"
      ],
      "metadata": {
        "id": "bsCJ-HNt7HRL",
        "outputId": "84075f01-bc26-44b3-cba1-d06dc5a974b6",
        "colab": {
          "base_uri": "https://localhost:8080/"
        }
      },
      "execution_count": 21,
      "outputs": [
        {
          "output_type": "stream",
          "name": "stdout",
          "text": [
            "a=-0.642333, b=1.105939, c=-0.568718, d=0.681791, e=-0.479537, f=-0.690286, g=1.019647, h=1.020079, i=-1.006431\n",
            "[-0.9753068681697779, -1.0066348894803465, 0.9639595389943496, 1.0146627205934213, -1.0059990832995263, -0.974106341483291]\n"
          ]
        }
      ]
    },
    {
      "cell_type": "code",
      "source": [
        "tanh(9)"
      ],
      "metadata": {
        "id": "rH9oAJQbSbQz",
        "outputId": "6c2b3343-62dc-4954-8d04-8f5b1b5a8627",
        "colab": {
          "base_uri": "https://localhost:8080/"
        }
      },
      "execution_count": 17,
      "outputs": [
        {
          "output_type": "execute_result",
          "data": {
            "text/plain": [
              "0.999999969540041"
            ]
          },
          "metadata": {},
          "execution_count": 17
        }
      ]
    },
    {
      "cell_type": "code",
      "source": [],
      "metadata": {
        "id": "njUHiN5jSrXF"
      },
      "execution_count": null,
      "outputs": []
    }
  ]
}