{
  "nbformat": 4,
  "nbformat_minor": 0,
  "metadata": {
    "colab": {
      "provenance": [],
      "authorship_tag": "ABX9TyPnYkMCa1a3rAnMQqChcqqy",
      "include_colab_link": true
    },
    "kernelspec": {
      "name": "python3",
      "display_name": "Python 3"
    },
    "language_info": {
      "name": "python"
    }
  },
  "cells": [
    {
      "cell_type": "markdown",
      "metadata": {
        "id": "view-in-github",
        "colab_type": "text"
      },
      "source": [
        "<a href=\"https://colab.research.google.com/github/seanlee1208/Machine-learning/blob/main/%EB%94%A5%EB%9F%AC%EB%8B%9D.ipynb\" target=\"_parent\"><img src=\"https://colab.research.google.com/assets/colab-badge.svg\" alt=\"Open In Colab\"/></a>"
      ]
    },
    {
      "cell_type": "code",
      "execution_count": null,
      "metadata": {
        "id": "fcY8x8Iy5gMT"
      },
      "outputs": [],
      "source": [
        "import math\n",
        "import random\n",
        "a = random.uniform(-2, 2)\n",
        "b = random.uniform(-2, 2)\n",
        "c = random.uniform(-2, 2)\n",
        "d = random.uniform(-2, 2)\n",
        "e = random.uniform(-2, 2)\n",
        "f = random.uniform(-2, 2)\n",
        "g = random.uniform(-2, 2)\n",
        "h = random.uniform(-2, 2)\n",
        "i = random.uniform(-2, 2)\n",
        "\n",
        "eta = 0.00001\n",
        "\n",
        "def sigmoid(x):\n",
        "  return 1.0/(1.0+math.exp(-x))\n",
        "\n",
        "data = [(5, 10), (7, 18), (10, 8), (15, 1), (20, 33), (23, 19)]\n",
        "labels = [-1, -1, +1, +1, -1, -1]\n",
        "\n",
        "zValue=[0, 0, 0, 0, 0, 0]\n",
        "FinalzValue=[0, 0, 0, 0, 0, 0]\n",
        "\n",
        "for counter in range(100000):\n",
        "  da=db=dc=dd=de=df=dg=dh=di=0.0\n",
        "  for idx in range(len(data)):\n",
        "    x = float(data[idx][0])\n",
        "    y = float(data[idx][1])\n",
        "    z1=a*x+b*y+c\n",
        "    X=sigmoid(z1)\n",
        "    z2=d*x+e*y+f\n",
        "    Y=sigmoid(z2)\n",
        "    z=g*X+h*Y+i\n",
        "\n",
        "    Z=labels[idx]\n",
        "    dz=2*(z-Z)\n",
        "    dz1=dz*g*sigmoid(z1)*(1.0-sigmoid(z1))\n",
        "    dz2=dz*h*sigmoid(z2)*(1.0-sigmoid(z2))\n",
        "    da+=dz1*x\n",
        "    db+=dz1*y\n",
        "    dc+=dz1\n",
        "    dd+=dz2*x\n",
        "    de+=dz2*y\n",
        "    df+=dz2\n",
        "    dg+=dz*X\n",
        "    dh+=dz*Y\n",
        "    di+=dz\n",
        "\n",
        "  a = a-eta*da\n",
        "  b = b-eta*db\n",
        "  c = c-eta*dc\n",
        "  d = d-eta*dd\n",
        "  e = e-eta*de\n",
        "  f = f-eta*df\n",
        "  g = g-eta*dg\n",
        "  h = h-eta*dh\n",
        "  i = i-eta*di\n",
        "\n",
        "\n",
        "print(\"a=%lf, b=%lf, c=%lf, d=%lf, e=%lf, f=%lf, g=%lf, h=%lf, i=%lf\" %(a, b, c, d, e, f, g, h, i))\n",
        "\n",
        "for idx in range(len(data)):\n",
        "  x = float(data[idx][0])\n",
        "  y = float(data[idx][1])\n",
        "  FinalzValue[idx] = g*sigmoid(a*x+b*y+c)+h*sigmoid(d*x+e*y+f)+i\n",
        "\n",
        "\n",
        "print(FinalzValue)"
      ]
    }
  ]
}
